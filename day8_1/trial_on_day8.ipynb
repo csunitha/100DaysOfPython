{
 "cells": [
  {
   "cell_type": "markdown",
   "metadata": {},
   "source": [
    "# Trying some lessons on string formatting"
   ]
  },
  {
   "cell_type": "markdown",
   "metadata": {},
   "source": [
    "# Option 1:  %formatting"
   ]
  },
  {
   "cell_type": "code",
   "execution_count": 17,
   "metadata": {},
   "outputs": [
    {
     "data": {
      "text/plain": [
       "'Hello real python. '"
      ]
     },
     "execution_count": 17,
     "metadata": {},
     "output_type": "execute_result"
    }
   ],
   "source": [
    "someone = 'real python'\n",
    "\n",
    "\"Hello %s.\" %someone "
   ]
  },
  {
   "cell_type": "code",
   "execution_count": 16,
   "metadata": {},
   "outputs": [
    {
     "data": {
      "text/plain": [
       "'Hello real python. you are whatever 12'"
      ]
     },
     "execution_count": 16,
     "metadata": {},
     "output_type": "execute_result"
    }
   ],
   "source": [
    "someone = 'real python'\n",
    "age = 12\n",
    "\n",
    "\"Hello %s. you are whatever %s\" %(someone, age) "
   ]
  },
  {
   "cell_type": "markdown",
   "metadata": {},
   "source": [
    "# Option 2: str.format()"
   ]
  },
  {
   "cell_type": "code",
   "execution_count": 19,
   "metadata": {},
   "outputs": [
    {
     "data": {
      "text/plain": [
       "'Hello realpython. you are whatever 12'"
      ]
     },
     "execution_count": 19,
     "metadata": {},
     "output_type": "execute_result"
    }
   ],
   "source": [
    "\"Hello {}. you are whatever {}\".format(\"realpython\", 12)"
   ]
  },
  {
   "cell_type": "code",
   "execution_count": 1,
   "metadata": {},
   "outputs": [
    {
     "data": {
      "text/plain": [
       "'Hello, real python. You are 12'"
      ]
     },
     "execution_count": 1,
     "metadata": {},
     "output_type": "execute_result"
    }
   ],
   "source": [
    "person = {'name':'real python', 'age': 12}\n",
    "'Hello, {name}. You are {age}'.format(name=person['name'], age=person['age'])"
   ]
  },
  {
   "cell_type": "code",
   "execution_count": 2,
   "metadata": {},
   "outputs": [
    {
     "data": {
      "text/plain": [
       "'Hello, real python. You are 12'"
      ]
     },
     "execution_count": 2,
     "metadata": {},
     "output_type": "execute_result"
    }
   ],
   "source": [
    "person = {'name':'real python', 'age': 12}\n",
    "'Hello, {name}. You are {age}'.format(**person)"
   ]
  },
  {
   "cell_type": "markdown",
   "metadata": {},
   "source": [
    "# Option 3: f-Strings"
   ]
  },
  {
   "cell_type": "code",
   "execution_count": 5,
   "metadata": {},
   "outputs": [
    {
     "data": {
      "text/plain": [
       "'Hello real f python, you are this much old - 1'"
      ]
     },
     "execution_count": 5,
     "metadata": {},
     "output_type": "execute_result"
    }
   ],
   "source": [
    "name = 'real f python'\n",
    "age = 1\n",
    "f'Hello {name}, you are this much old - {age}'"
   ]
  },
  {
   "cell_type": "code",
   "execution_count": 8,
   "metadata": {},
   "outputs": [],
   "source": [
    "class Person:\n",
    "    def __init__(self, firstname, lastname, age):\n",
    "        self.firstname = firstname\n",
    "        self.lastname = lastname\n",
    "        self.age = age\n",
    "        \n",
    "    def __str__(self):\n",
    "        return f\"{self.firstname} {self.lastname} is {self.age}.\"\n",
    "    \n",
    "    def __repr__(self):\n",
    "        return f\"{self.firstname} {self.lastname} is officially {self.age}.\"\n"
   ]
  },
  {
   "cell_type": "code",
   "execution_count": 17,
   "metadata": {},
   "outputs": [
    {
     "data": {
      "text/plain": [
       "'adhvaith rajesh is 15.'"
      ]
     },
     "execution_count": 17,
     "metadata": {},
     "output_type": "execute_result"
    }
   ],
   "source": [
    "new_person = Person(\"adhvaith\", \"rajesh\", 15)\n",
    "f\"{new_person}\""
   ]
  },
  {
   "cell_type": "code",
   "execution_count": 16,
   "metadata": {},
   "outputs": [
    {
     "data": {
      "text/plain": [
       "'adhvaith rajesh is officially 15.'"
      ]
     },
     "execution_count": 16,
     "metadata": {},
     "output_type": "execute_result"
    }
   ],
   "source": [
    "f\"{new_person!r}\""
   ]
  },
  {
   "cell_type": "code",
   "execution_count": 19,
   "metadata": {},
   "outputs": [],
   "source": [
    "MIN_DRIVING_AGE = 18\n",
    "\n",
    "def allowed_driving(name, age):\n",
    "    \"\"\"Print '{name} is allowed to drive' or '{name} is not allowed to drive'\n",
    "       checking the passed in age against the MIN_DRIVING_AGE constant\"\"\"\n",
    "    if (age >= MIN_DRIVING_AGE ):\n",
    "        return f\"{name} is allowed to drive\"\n",
    "    else:\n",
    "        return f\"{name} is not allowed to drive\"\n",
    "    pass"
   ]
  },
  {
   "cell_type": "code",
   "execution_count": 22,
   "metadata": {},
   "outputs": [
    {
     "data": {
      "text/plain": [
       "'adhvaith is allowed to drive'"
      ]
     },
     "execution_count": 22,
     "metadata": {},
     "output_type": "execute_result"
    }
   ],
   "source": [
    "allowed_driving('adhvaith', 18)"
   ]
  },
  {
   "cell_type": "markdown",
   "metadata": {},
   "source": [
    "# Pythonic if else and using of f-string"
   ]
  },
  {
   "cell_type": "code",
   "execution_count": 23,
   "metadata": {},
   "outputs": [],
   "source": [
    "MIN_DRIVING_AGE = 18\n",
    "\n",
    "def allowed_driving(name, age):\n",
    "    allowed = 'is allowed' if age >= MIN_DRIVING_AGE else 'is not allowed'\n",
    "    print(f'{name} {allowed} to drive')\n",
    "    pass"
   ]
  },
  {
   "cell_type": "code",
   "execution_count": 24,
   "metadata": {},
   "outputs": [
    {
     "name": "stdout",
     "output_type": "stream",
     "text": [
      "someone is not allowed to drive\n"
     ]
    }
   ],
   "source": [
    "allowed_driving('someone', 14)"
   ]
  },
  {
   "cell_type": "markdown",
   "metadata": {},
   "source": [
    "# Trying an day 7 activity with f-string"
   ]
  },
  {
   "cell_type": "code",
   "execution_count": 35,
   "metadata": {},
   "outputs": [],
   "source": [
    "oracle_connection_string = 'oracle+cx_oracle://{username}:{password}@'+ cx_Oracle.makedsn('{hostname}', '{port}', service_name='{service_name}')"
   ]
  },
  {
   "cell_type": "code",
   "execution_count": 48,
   "metadata": {},
   "outputs": [
    {
     "data": {
      "text/plain": [
       "'oracle+cx_oracle://sane:pappi@(DESCRIPTION=(ADDRESS=(PROTOCOL=TCP)(HOST=ghost)(PORT=3232))(CONNECT_DATA=(SERVICE_NAME=db)))'"
      ]
     },
     "execution_count": 48,
     "metadata": {},
     "output_type": "execute_result"
    }
   ],
   "source": [
    "oracle_connection_string.format(\n",
    "        username = 'sane',\n",
    "        password = 'pappi',\n",
    "        hostname = 'ghost',\n",
    "        port = '3232',\n",
    "        service_name = 'db')"
   ]
  },
  {
   "cell_type": "code",
   "execution_count": 51,
   "metadata": {
    "scrolled": true
   },
   "outputs": [
    {
     "ename": "TypeError",
     "evalue": "'str' object is not callable",
     "output_type": "error",
     "traceback": [
      "\u001b[1;31m---------------------------------------------------------------------------\u001b[0m",
      "\u001b[1;31mTypeError\u001b[0m                                 Traceback (most recent call last)",
      "\u001b[1;32m<ipython-input-51-ffbc88fee240>\u001b[0m in \u001b[0;36m<module>\u001b[1;34m\u001b[0m\n\u001b[1;32m----> 1\u001b[1;33m \u001b[1;34mf\"{oracle_connection_string('name','pass','host','121','db')}\"\u001b[0m\u001b[1;33m\u001b[0m\u001b[1;33m\u001b[0m\u001b[0m\n\u001b[0m",
      "\u001b[1;31mTypeError\u001b[0m: 'str' object is not callable"
     ]
    }
   ],
   "source": [
    "f\"{oracle_connection_string('name','pass','host','121','db')}\""
   ]
  },
  {
   "cell_type": "code",
   "execution_count": 50,
   "metadata": {},
   "outputs": [
    {
     "name": "stdout",
     "output_type": "stream",
     "text": [
      "oracle+cx_oracle://sane:pappi@(DESCRIPTION=(ADDRESS=(PROTOCOL=TCP)(HOST=ghost)(PORT=3232))(CONNECT_DATA=(SERVICE_NAME=db)))\n"
     ]
    }
   ],
   "source": [
    "username ='sane'\n",
    "password ='pappi'\n",
    "hostname = 'ghost'\n",
    "port = '3232'\n",
    "service_name ='db'\n",
    "new_oracle_connection_string = f'oracle+cx_oracle://{username}:{password}@'+ cx_Oracle.makedsn(f'{hostname}', f'{port}', service_name=f'{service_name}')\n",
    "print(new_oracle_connection_string)"
   ]
  }
 ],
 "metadata": {
  "kernelspec": {
   "display_name": "Python 3",
   "language": "python",
   "name": "python3"
  },
  "language_info": {
   "codemirror_mode": {
    "name": "ipython",
    "version": 3
   },
   "file_extension": ".py",
   "mimetype": "text/x-python",
   "name": "python",
   "nbconvert_exporter": "python",
   "pygments_lexer": "ipython3",
   "version": "3.7.1"
  }
 },
 "nbformat": 4,
 "nbformat_minor": 2
}
